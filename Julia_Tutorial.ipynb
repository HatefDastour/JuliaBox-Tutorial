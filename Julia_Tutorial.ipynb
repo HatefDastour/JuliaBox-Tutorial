{
 "cells": [
  {
   "cell_type": "markdown",
   "metadata": {},
   "source": [
    "# JuliaBox Tutorial"
   ]
  },
  {
   "cell_type": "markdown",
   "metadata": {},
   "source": [
    "Package operations can be done directly from the notebook in julia 1.0. To install a package:\n",
    "\n",
    "``using Pkg``\n",
    "\n",
    "``Pkg.add(\"MyPackage\")``"
   ]
  },
  {
   "cell_type": "markdown",
   "metadata": {},
   "source": [
    "## Basics of programming in Julia\n",
    "### Julia Variables: Assigning variables are quite similar to MATLAB."
   ]
  },
  {
   "cell_type": "code",
   "execution_count": 4,
   "metadata": {},
   "outputs": [
    {
     "data": {
      "text/plain": [
       "20"
      ]
     },
     "execution_count": 4,
     "metadata": {},
     "output_type": "execute_result"
    }
   ],
   "source": [
    "x=10;\n",
    "y=20;"
   ]
  },
  {
   "cell_type": "markdown",
   "metadata": {},
   "source": [
    "### Basic operations\n",
    "* Adition and Substraction"
   ]
  },
  {
   "cell_type": "code",
   "execution_count": 11,
   "metadata": {},
   "outputs": [
    {
     "ename": "UndefVarError",
     "evalue": "UndefVarError: disp not defined",
     "output_type": "error",
     "traceback": [
      "UndefVarError: disp not defined",
      "",
      "Stacktrace:",
      " [1] top-level scope at In[11]:3"
     ]
    }
   ],
   "source": [
    "A=x+y;\n",
    "S=x-y;"
   ]
  },
  {
   "cell_type": "markdown",
   "metadata": {},
   "source": [
    "* Multiplication and Division"
   ]
  },
  {
   "cell_type": "code",
   "execution_count": 13,
   "metadata": {},
   "outputs": [],
   "source": [
    "M=x*y;\n",
    "D=x/y;"
   ]
  },
  {
   "cell_type": "markdown",
   "metadata": {},
   "source": [
    "### Julia Integers and Floating-Point Numbers:\n",
    "[Source *https://media.readthedocs.org/pdf/juliaboxfaqs/latest/juliaboxfaqs.pdf*]"
   ]
  },
  {
   "cell_type": "markdown",
   "metadata": {},
   "source": [
    "***Integer types***:\n",
    "\n",
    "| Type | Signed? | Number | of | bits |\n",
    "|:--------:|:-------:|:------:|:---------:|:--------:|\n",
    "| Int8 | Y | 8 | -2^7 | 2^7-1 |\n",
    "| UInt8 | N | 8 | 0 | 2^8-1 |\n",
    "| Int16 | Y | 16 | -2^15 | 2^15-1 |\n",
    "| UInt16  | N | 16 | 0 | 2^16-1 |\n",
    "| Int32  | Y | 32 | -2^31 | 2^31-1 |\n",
    "| UInt32  | N | 32 | 0 | 2^32-1 |\n",
    "| Int64 | Y | 64 | -2^63 | 2^63-1 |\n",
    "| UInt64 | N | 64 | 0 | 2^64-1 |\n",
    "| Int128  | Y | 128 | -2^127 | 2^127-1 |\n",
    "| UInt128  | N | 128 | 0 | 2^128-1 |\n",
    "| Bool | N/A | 8 | false (0) | true (1) |\n",
    "\n",
    "***Floating-point types***:\n",
    "\n",
    "| Type | Precision | Number of bit |\n",
    "|:-------:|:---------:|:-------------:|\n",
    "| Float16 | half_ | 16 |\n",
    "| Float32 | single_ | 32 |"
   ]
  },
  {
   "cell_type": "markdown",
   "metadata": {},
   "source": [
    "### Loops:\n",
    "Loops here is also quite similar to MATLAB loops. For example, lets try to make the following sequence\n",
    "$$\\{ 0, 1, 3, 6, 10, \\ldots\\}$$"
   ]
  },
  {
   "cell_type": "code",
   "execution_count": 38,
   "metadata": {},
   "outputs": [
    {
     "name": "stdout",
     "output_type": "stream",
     "text": [
      "S_0 = 0\n",
      "S_1 = 1\n",
      "S_2 = 3\n",
      "S_3 = 6\n",
      "S_4 = 10\n",
      "S_5 = 15\n",
      "S_6 = 21\n",
      "S_7 = 28\n",
      "S_8 = 36\n",
      "S_9 = 45\n",
      "S_10 = 55\n"
     ]
    }
   ],
   "source": [
    "# the first 10 elements of the sequence\n",
    "S=0;N=10;\n",
    "for i=0:N\n",
    "    S+=i\n",
    "    println(\"S_$i = $S\")\n",
    "end"
   ]
  },
  {
   "cell_type": "markdown",
   "metadata": {},
   "source": [
    "We can do this using a *while* loop as well"
   ]
  },
  {
   "cell_type": "code",
   "execution_count": 39,
   "metadata": {},
   "outputs": [
    {
     "name": "stdout",
     "output_type": "stream",
     "text": [
      "S_0 = 0\n",
      "S_1 = 1\n",
      "S_2 = 3\n",
      "S_3 = 6\n",
      "S_4 = 10\n",
      "S_5 = 15\n",
      "S_6 = 21\n",
      "S_7 = 28\n",
      "S_8 = 36\n",
      "S_9 = 45\n",
      "S_10 = 55\n"
     ]
    }
   ],
   "source": [
    "# the first 10 elements of the sequence\n",
    "S=0;N=10;i=0;\n",
    "while i<=N\n",
    "    S+=i\n",
    "    println(\"S_$i = $S\")\n",
    "    i+=1;\n",
    "end"
   ]
  },
  {
   "cell_type": "markdown",
   "metadata": {},
   "source": [
    " ## Data Structures\n",
    " ***Array{Type, dim}***:\n",
    " A collection of type Type with size dim. For example"
   ]
  },
  {
   "cell_type": "code",
   "execution_count": 48,
   "metadata": {},
   "outputs": [
    {
     "data": {
      "text/plain": [
       "Array{Int64,10}"
      ]
     },
     "execution_count": 48,
     "metadata": {},
     "output_type": "execute_result"
    }
   ],
   "source": [
    " A = Array{Int64, 10}"
   ]
  },
  {
   "cell_type": "code",
   "execution_count": 42,
   "metadata": {},
   "outputs": [
    {
     "data": {
      "text/plain": [
       "Array{Int128,100}"
      ]
     },
     "execution_count": 42,
     "metadata": {},
     "output_type": "execute_result"
    }
   ],
   "source": [
    "B = Array{Int128, 100}"
   ]
  },
  {
   "cell_type": "markdown",
   "metadata": {},
   "source": [
    "Therefore, the preivous sequnce example can be expressed as follows"
   ]
  },
  {
   "cell_type": "code",
   "execution_count": 62,
   "metadata": {},
   "outputs": [],
   "source": [
    "A=Array{Int64,1}();\n",
    "S=0;N=10;\n",
    "for i=1:N\n",
    "    S+=i\n",
    "    push!(A,S);\n",
    "end"
   ]
  },
  {
   "cell_type": "code",
   "execution_count": 63,
   "metadata": {},
   "outputs": [
    {
     "data": {
      "text/plain": [
       "10-element Array{Int64,1}:\n",
       "  1\n",
       "  3\n",
       "  6\n",
       " 10\n",
       " 15\n",
       " 21\n",
       " 28\n",
       " 36\n",
       " 45\n",
       " 55"
      ]
     },
     "execution_count": 63,
     "metadata": {},
     "output_type": "execute_result"
    }
   ],
   "source": [
    "A"
   ]
  },
  {
   "cell_type": "markdown",
   "metadata": {},
   "source": [
    "## Ploting\n",
    "We can use ```Pkg.add(\"PyPlot\")``` to add the Pyplot package for plotting.\n",
    "\n",
    "```using Pkg\n",
    "Pkg.add(\"Plots\")\n",
    "using Plots\n",
    "plotly() # Choose the Plotly.jl backend for web interactivity\n",
    "plot(rand(5,5),linewidth=2,title=\"My Plot\")\n",
    "Pkg.add(\"PyPlot\") # Install a different backend\n",
    "pyplot() # Switch to using the PyPlot.jl backend\n",
    "plot(rand(5,5),linewidth=2,title=\"My Plot\") # The same plotting command works\n",
    "```\n",
    "\n",
    "For exaxmple, let's plot $y = \\sin(3x + 4cos(2x)$ when $x$ varies from $0$ to $\\pi$."
   ]
  },
  {
   "cell_type": "code",
   "execution_count": 71,
   "metadata": {},
   "outputs": [
    {
     "name": "stdout",
     "output_type": "stream",
     "text": [
      "\u001b[32m\u001b[1m Resolving\u001b[22m\u001b[39m package versions...\n"
     ]
    },
    {
     "data": {
      "image/png": "[encoded data removed]",
      "text/plain": [
       "Figure(PyObject <Figure size 640x480 with 1 Axes>)"
      ]
     },
     "metadata": {},
     "output_type": "display_data"
    },
    {
     "name": "stdout",
     "output_type": "stream",
     "text": [
      "\u001b[32m\u001b[1m  Updating\u001b[22m\u001b[39m `~/.julia/environments/v1.1/Project.toml`\n",
      "\u001b[90m [no changes]\u001b[39m\n",
      "\u001b[32m\u001b[1m  Updating\u001b[22m\u001b[39m `~/.julia/environments/v1.1/Manifest.toml`\n",
      "\u001b[90m [no changes]\u001b[39m\n"
     ]
    }
   ],
   "source": [
    "using Pkg\n",
    "Pkg.add(\"PyPlot\")\n",
    "using PyPlot\n",
    "x = range(0,stop=2*pi,length=1000); y = sin.(3*x + 4*cos.(2*x))\n",
    "plot(x, y, color=\"blue\", linewidth=1.0, linestyle=\"-\");\n"
   ]
  },
  {
   "cell_type": "markdown",
   "metadata": {},
   "source": [
    "## Importing a CSV Table"
   ]
  },
  {
   "cell_type": "code",
   "execution_count": 74,
   "metadata": {},
   "outputs": [
    {
     "ename": "UndefVarError",
     "evalue": "UndefVarError: readtable not defined",
     "output_type": "error",
     "traceback": [
      "UndefVarError: readtable not defined",
      "",
      "Stacktrace:",
      " [1] top-level scope at In[74]:1"
     ]
    }
   ],
   "source": [
    "df=readtable(\"https://raw.githubusercontent.com/HatefDastour/JuliaBox-Tutorial/master/brain.csv\", nastrings=[\"NaN\"], header=true)"
   ]
  },
  {
   "cell_type": "code",
   "execution_count": null,
   "metadata": {},
   "outputs": [],
   "source": []
  },
  {
   "cell_type": "code",
   "execution_count": null,
   "metadata": {},
   "outputs": [],
   "source": []
  },
  {
   "cell_type": "code",
   "execution_count": 4,
   "metadata": {},
   "outputs": [
    {
     "ename": "UndefVarError",
     "evalue": "UndefVarError: Pkg not defined",
     "output_type": "error",
     "traceback": [
      "UndefVarError: Pkg not defined",
      "",
      "Stacktrace:",
      " [1] top-level scope at In[4]:1"
     ]
    }
   ],
   "source": []
  }
 ],
 "metadata": {
  "kernelspec": {
   "display_name": "Julia 1.1.0",
   "language": "julia",
   "name": "julia-1.1"
  },
  "language_info": {
   "file_extension": ".jl",
   "mimetype": "application/julia",
   "name": "julia",
   "version": "1.1.0"
  }
 },
 "nbformat": 4,
 "nbformat_minor": 2
}
